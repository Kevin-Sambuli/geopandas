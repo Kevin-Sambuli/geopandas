{
 "cells": [
  {
   "cell_type": "code",
   "execution_count": 2,
   "metadata": {
    "pycharm": {
     "name": "#%%\n"
    }
   },
   "outputs": [
    {
     "name": "stderr",
     "output_type": "stream",
     "text": [
      "C:\\Users\\DELL\\Anaconda3\\lib\\site-packages\\geopandas\\_compat.py:110: UserWarning: The Shapely GEOS version (3.8.0-CAPI-1.13.1 ) is incompatible with the GEOS version PyGEOS was compiled with (3.10.1-CAPI-1.16.0). Conversions between both will be slow.\n",
      "  shapely_geos_version, geos_capi_version_string\n",
      "Can't load requested DLL: C:\\Program Files\\GDAL\\gdalplugins\\gdal_KEA.dll\n",
      "127: The specified procedure could not be found.\n",
      "\n",
      "Can't load requested DLL: C:\\Program Files\\GDAL\\gdalplugins\\gdal_KEA.dll\n",
      "127: The specified procedure could not be found.\n",
      "\n",
      "Can't load requested DLL: C:\\Program Files\\GDAL\\gdalplugins\\gdal_KEA.dll\n",
      "127: The specified procedure could not be found.\n",
      "\n",
      "Can't load requested DLL: C:\\Program Files\\GDAL\\gdalplugins\\gdal_KEA.dll\n",
      "127: The specified procedure could not be found.\n",
      "\n"
     ]
    }
   ],
   "source": [
    "import pandas as pd\n",
    "import os\n",
    "import geopandas as gpd\n",
    "from geopandas.tools import sjoin\n",
    "import psycopg2  # (if it is postgres/postgis)\n",
    "%matplotlib inline\n",
    "import matplotlib.pyplot as plt\n",
    "# import pysal as ps\n",
    "import folium\n",
    "from folium.plugins import MarkerCluster\n",
    "from folium import IFrame\n",
    "import shapely\n",
    "import geojson\n",
    "# import shapely.wkt\n",
    "# import unicodedata\n",
    "# import osgeo.ogr\n",
    "# from pysal import mapping as maps\n",
    "\n",
    "\n"
   ]
  },
  {
   "cell_type": "code",
   "execution_count": 3,
   "metadata": {},
   "outputs": [],
   "source": [
    "con = psycopg2.connect(dbname = \"Ardhi\", user = \"postgres\", password=\"kevoh\", host=\"127.0.0.1\", port = \"5432\")\n",
    "\n",
    "sql = \"select * from parcels\"\n",
    "\n",
    "df = gpd.GeoDataFrame.from_postgis(sql, con , geom_col='geom')"
   ]
  },
  {
   "cell_type": "code",
   "execution_count": 4,
   "metadata": {},
   "outputs": [
    {
     "data": {
      "text/html": [
       "<div>\n",
       "<style scoped>\n",
       "    .dataframe tbody tr th:only-of-type {\n",
       "        vertical-align: middle;\n",
       "    }\n",
       "\n",
       "    .dataframe tbody tr th {\n",
       "        vertical-align: top;\n",
       "    }\n",
       "\n",
       "    .dataframe thead th {\n",
       "        text-align: right;\n",
       "    }\n",
       "</style>\n",
       "<table border=\"1\" class=\"dataframe\">\n",
       "  <thead>\n",
       "    <tr style=\"text-align: right;\">\n",
       "      <th></th>\n",
       "      <th>id</th>\n",
       "      <th>perimeter</th>\n",
       "      <th>area_ha</th>\n",
       "      <th>lr_no</th>\n",
       "      <th>status</th>\n",
       "      <th>geom</th>\n",
       "      <th>owner_id</th>\n",
       "    </tr>\n",
       "  </thead>\n",
       "  <tbody>\n",
       "    <tr>\n",
       "      <th>0</th>\n",
       "      <td>26</td>\n",
       "      <td>186.653</td>\n",
       "      <td>0.203666</td>\n",
       "      <td>LR12872/26</td>\n",
       "      <td>in_use</td>\n",
       "      <td>MULTIPOLYGON (((36.82365 -1.22242, 36.82387 -1...</td>\n",
       "      <td>None</td>\n",
       "    </tr>\n",
       "    <tr>\n",
       "      <th>1</th>\n",
       "      <td>24</td>\n",
       "      <td>188.470</td>\n",
       "      <td>0.204765</td>\n",
       "      <td>LR12872/24</td>\n",
       "      <td>in_use</td>\n",
       "      <td>MULTIPOLYGON (((36.82383 -1.22312, 36.82377 -1...</td>\n",
       "      <td>None</td>\n",
       "    </tr>\n",
       "    <tr>\n",
       "      <th>2</th>\n",
       "      <td>23</td>\n",
       "      <td>187.388</td>\n",
       "      <td>0.201971</td>\n",
       "      <td>LR12872/23</td>\n",
       "      <td>in_use</td>\n",
       "      <td>MULTIPOLYGON (((36.82324 -1.22330, 36.82377 -1...</td>\n",
       "      <td>None</td>\n",
       "    </tr>\n",
       "    <tr>\n",
       "      <th>3</th>\n",
       "      <td>22</td>\n",
       "      <td>187.348</td>\n",
       "      <td>0.202393</td>\n",
       "      <td>LR12872/22</td>\n",
       "      <td>in_use</td>\n",
       "      <td>MULTIPOLYGON (((36.82371 -1.22371, 36.82364 -1...</td>\n",
       "      <td>None</td>\n",
       "    </tr>\n",
       "    <tr>\n",
       "      <th>4</th>\n",
       "      <td>21</td>\n",
       "      <td>187.927</td>\n",
       "      <td>0.204385</td>\n",
       "      <td>LR12872/21</td>\n",
       "      <td>in_use</td>\n",
       "      <td>MULTIPOLYGON (((36.82312 -1.22391, 36.82364 -1...</td>\n",
       "      <td>None</td>\n",
       "    </tr>\n",
       "    <tr>\n",
       "      <th>5</th>\n",
       "      <td>20</td>\n",
       "      <td>186.899</td>\n",
       "      <td>0.201292</td>\n",
       "      <td>LR12872/20</td>\n",
       "      <td>in_use</td>\n",
       "      <td>MULTIPOLYGON (((36.82305 -1.22421, 36.82358 -1...</td>\n",
       "      <td>None</td>\n",
       "    </tr>\n",
       "    <tr>\n",
       "      <th>6</th>\n",
       "      <td>19</td>\n",
       "      <td>186.649</td>\n",
       "      <td>0.200484</td>\n",
       "      <td>LR12872/19</td>\n",
       "      <td>in_use</td>\n",
       "      <td>MULTIPOLYGON (((36.82299 -1.22451, 36.82352 -1...</td>\n",
       "      <td>None</td>\n",
       "    </tr>\n",
       "    <tr>\n",
       "      <th>7</th>\n",
       "      <td>18</td>\n",
       "      <td>187.740</td>\n",
       "      <td>0.203571</td>\n",
       "      <td>LR12872/18</td>\n",
       "      <td>in_use</td>\n",
       "      <td>MULTIPOLYGON (((36.82293 -1.22481, 36.82346 -1...</td>\n",
       "      <td>None</td>\n",
       "    </tr>\n",
       "    <tr>\n",
       "      <th>8</th>\n",
       "      <td>17</td>\n",
       "      <td>187.107</td>\n",
       "      <td>0.202099</td>\n",
       "      <td>LR12872/17</td>\n",
       "      <td>in_use</td>\n",
       "      <td>MULTIPOLYGON (((36.82287 -1.22511, 36.82340 -1...</td>\n",
       "      <td>None</td>\n",
       "    </tr>\n",
       "    <tr>\n",
       "      <th>9</th>\n",
       "      <td>16</td>\n",
       "      <td>186.704</td>\n",
       "      <td>0.201319</td>\n",
       "      <td>LR12872/16</td>\n",
       "      <td>in_use</td>\n",
       "      <td>MULTIPOLYGON (((36.82281 -1.22541, 36.82333 -1...</td>\n",
       "      <td>None</td>\n",
       "    </tr>\n",
       "  </tbody>\n",
       "</table>\n",
       "</div>"
      ],
      "text/plain": [
       "   id  perimeter   area_ha       lr_no  status  \\\n",
       "0  26    186.653  0.203666  LR12872/26  in_use   \n",
       "1  24    188.470  0.204765  LR12872/24  in_use   \n",
       "2  23    187.388  0.201971  LR12872/23  in_use   \n",
       "3  22    187.348  0.202393  LR12872/22  in_use   \n",
       "4  21    187.927  0.204385  LR12872/21  in_use   \n",
       "5  20    186.899  0.201292  LR12872/20  in_use   \n",
       "6  19    186.649  0.200484  LR12872/19  in_use   \n",
       "7  18    187.740  0.203571  LR12872/18  in_use   \n",
       "8  17    187.107  0.202099  LR12872/17  in_use   \n",
       "9  16    186.704  0.201319  LR12872/16  in_use   \n",
       "\n",
       "                                                geom owner_id  \n",
       "0  MULTIPOLYGON (((36.82365 -1.22242, 36.82387 -1...     None  \n",
       "1  MULTIPOLYGON (((36.82383 -1.22312, 36.82377 -1...     None  \n",
       "2  MULTIPOLYGON (((36.82324 -1.22330, 36.82377 -1...     None  \n",
       "3  MULTIPOLYGON (((36.82371 -1.22371, 36.82364 -1...     None  \n",
       "4  MULTIPOLYGON (((36.82312 -1.22391, 36.82364 -1...     None  \n",
       "5  MULTIPOLYGON (((36.82305 -1.22421, 36.82358 -1...     None  \n",
       "6  MULTIPOLYGON (((36.82299 -1.22451, 36.82352 -1...     None  \n",
       "7  MULTIPOLYGON (((36.82293 -1.22481, 36.82346 -1...     None  \n",
       "8  MULTIPOLYGON (((36.82287 -1.22511, 36.82340 -1...     None  \n",
       "9  MULTIPOLYGON (((36.82281 -1.22541, 36.82333 -1...     None  "
      ]
     },
     "execution_count": 4,
     "metadata": {},
     "output_type": "execute_result"
    }
   ],
   "source": [
    "df.head(10)"
   ]
  },
  {
   "cell_type": "code",
   "execution_count": 5,
   "metadata": {},
   "outputs": [],
   "source": [
    "cur = con.cursor()\n",
    "\n",
    "sql = \"select * from parcels\" \n",
    "\n",
    "gdf = gpd.GeoDataFrame.from_postgis(sql, con, crs=4326)"
   ]
  },
  {
   "cell_type": "code",
   "execution_count": 6,
   "metadata": {},
   "outputs": [
    {
     "data": {
      "text/plain": [
       "<bound method NDFrame.head of     id  perimeter   area_ha       lr_no  status  \\\n",
       "0   26    186.653  0.203666  LR12872/26  in_use   \n",
       "1   24    188.470  0.204765  LR12872/24  in_use   \n",
       "2   23    187.388  0.201971  LR12872/23  in_use   \n",
       "3   22    187.348  0.202393  LR12872/22  in_use   \n",
       "4   21    187.927  0.204385  LR12872/21  in_use   \n",
       "..  ..        ...       ...         ...     ...   \n",
       "72  11    246.278  0.251211  LR12872/11  in_use   \n",
       "73  10    222.125  0.197400  LR12872/10  in_use   \n",
       "74   9    196.407  0.168898   LR12872/9  in_use   \n",
       "75   8    204.204  0.203303   LR12872/8  in_use   \n",
       "76  28    195.083  0.205847  LR12872/28  in_use   \n",
       "\n",
       "                                                 geom owner_id  \n",
       "0   MULTIPOLYGON (((36.82365 -1.22242, 36.82387 -1...     None  \n",
       "1   MULTIPOLYGON (((36.82383 -1.22312, 36.82377 -1...     None  \n",
       "2   MULTIPOLYGON (((36.82324 -1.22330, 36.82377 -1...     None  \n",
       "3   MULTIPOLYGON (((36.82371 -1.22371, 36.82364 -1...     None  \n",
       "4   MULTIPOLYGON (((36.82312 -1.22391, 36.82364 -1...     None  \n",
       "..                                                ...      ...  \n",
       "72  MULTIPOLYGON (((36.82394 -1.22656, 36.82422 -1...     None  \n",
       "73  MULTIPOLYGON (((36.82422 -1.22670, 36.82441 -1...     None  \n",
       "74  MULTIPOLYGON (((36.82421 -1.22747, 36.82441 -1...     None  \n",
       "75  MULTIPOLYGON (((36.82464 -1.22691, 36.82492 -1...     None  \n",
       "76  MULTIPOLYGON (((36.82500 -1.22356, 36.82458 -1...     None  \n",
       "\n",
       "[77 rows x 7 columns]>"
      ]
     },
     "execution_count": 6,
     "metadata": {},
     "output_type": "execute_result"
    }
   ],
   "source": [
    "df = gdf.copy()\n",
    "df.head"
   ]
  },
  {
   "cell_type": "code",
   "execution_count": 7,
   "metadata": {},
   "outputs": [
    {
     "data": {
      "text/plain": [
       "<matplotlib.axes._subplots.AxesSubplot at 0x2ee700faeb8>"
      ]
     },
     "execution_count": 7,
     "metadata": {},
     "output_type": "execute_result"
    },
    {
     "data": {
      "image/png": "[encoded data removed]",
      "text/plain": [
       "<Figure size 720x720 with 1 Axes>"
      ]
     },
     "metadata": {
      "needs_background": "light"
     },
     "output_type": "display_data"
    }
   ],
   "source": [
    "df.plot(figsize=(10, 10), alpha=0.5, edgecolor='g')\n"
   ]
  },
  {
   "cell_type": "code",
   "execution_count": 8,
   "metadata": {},
   "outputs": [
    {
     "data": {
      "text/plain": [
       "<Geographic 2D CRS: EPSG:4326>\n",
       "Name: WGS 84\n",
       "Axis Info [ellipsoidal]:\n",
       "- Lat[north]: Geodetic latitude (degree)\n",
       "- Lon[east]: Geodetic longitude (degree)\n",
       "Area of Use:\n",
       "- name: World\n",
       "- bounds: (-180.0, -90.0, 180.0, 90.0)\n",
       "Datum: World Geodetic System 1984\n",
       "- Ellipsoid: WGS 84\n",
       "- Prime Meridian: Greenwich"
      ]
     },
     "execution_count": 8,
     "metadata": {},
     "output_type": "execute_result"
    }
   ],
   "source": [
    "df = df.crs\n",
    "\n",
    "df"
   ]
  },
  {
   "cell_type": "code",
   "execution_count": 9,
   "metadata": {},
   "outputs": [],
   "source": [
    "# df = df.set_crs(epsg=4326)\n",
    "\n",
    "# df = df.to_crs(epsg=3857)\n"
   ]
  },
  {
   "cell_type": "code",
   "execution_count": 10,
   "metadata": {},
   "outputs": [],
   "source": [
    "import contextlib as ctx"
   ]
  },
  {
   "cell_type": "code",
   "execution_count": 11,
   "metadata": {},
   "outputs": [],
   "source": [
    "# ax = df.plot(figsize=(10, 10), alpha=0.5, edgecolor='k')\n",
    "# ctx.add_basemap(ax, zoom=12)\n",
    "\n",
    "\n",
    "# ax = df.plot(color=\"green\", figsize=(10, 10), edgecolor='y')\n",
    "# ctx.add_basemap(ax, crs=df.crs.to_string())\n"
   ]
  },
  {
   "cell_type": "code",
   "execution_count": 12,
   "metadata": {},
   "outputs": [],
   "source": [
    "# ax = df.plot(figsize=(10, 10), alpha=0.5, edgecolor='k')\n",
    "# ctx.add_basemap(ax, url=ctx.providers.Stamen.TonerLite)\n",
    "# ax.set_axis_off()"
   ]
  },
  {
   "cell_type": "code",
   "execution_count": 14,
   "metadata": {},
   "outputs": [
    {
     "ename": "SyntaxError",
     "evalue": "invalid syntax (<ipython-input-14-2af3a8ca3c5d>, line 1)",
     "output_type": "error",
     "traceback": [
      "\u001b[1;36m  File \u001b[1;32m\"<ipython-input-14-2af3a8ca3c5d>\"\u001b[1;36m, line \u001b[1;32m1\u001b[0m\n\u001b[1;33m    m = folium.Map(location=[-1.286389, 36.817223], zoom_start=13 tiles='Stamen Terrain')\u001b[0m\n\u001b[1;37m                                                                      ^\u001b[0m\n\u001b[1;31mSyntaxError\u001b[0m\u001b[1;31m:\u001b[0m invalid syntax\n"
     ]
    }
   ],
   "source": [
    "m = folium.Map(location=[-1.286389, 36.817223], zoom_start=13 tiles='Stamen Terrain')\n",
    "\n",
    "query = (\"\"\"SELECT jsonb_build_object ('type', 'FeatureCollection', 'features', jsonb_agg(features.feature)) FROM (SELECT           jsonb_build_object('type', 'Feature','geometry', ST_AsGeoJSON(geom)::jsonb, 'properties', \n",
    "         to_jsonb(inputs) - 'geom') AS feature FROM(SELECT * FROM counties where gid = 47) inputs) features;\"\"\")\n",
    "\n",
    "conn = psycopg2.connect(dbname = \"LandIs\", user = \"postgres\", password=\"kevoh\", host=\"127.0.0.1\", port = \"5432\")\n",
    "cur = conn.cursor()\n",
    "\n",
    "cur.execute(query)\n",
    "counties = cur.fetchall()\n",
    "extent = [-1.2935, 36.8683]\n",
    "m = folium.Map(location=extent, zoom_start=12)\n",
    "m.choropleth(geo_data=counties[0][0],name='Nairobi',column='countyname',\n",
    "    key_on='gid',fill_color='yellow',fill_opacity='0.2',line_opacity='2',legend_name='Counties',\n",
    ")\n",
    "folium.LayerControl().add_to(m)   \n",
    "# m"
   ]
  },
  {
   "cell_type": "code",
   "execution_count": null,
   "metadata": {},
   "outputs": [],
   "source": [
    "# m=folium.Map(location=[-1.286389, 36.817223], tiles='Stamen Toner', zoom_start=13)\n",
    "\n",
    "# query = ()\n",
    "\n",
    "# conn = psycopg2.connect(dbname = \"LandIs\", user = \"postgres\", password=\"kevoh\", host=\"127.0.0.1\", port = \"5432\")\n",
    "# cur = conn.cursor()\n",
    "\n",
    "# cur.execute(query)\n",
    "# counties = cur.fetchall()\n",
    "# extent = [-1.2935, 36.8683]\n",
    "# m.choropleth(\n",
    "#     geo_data=counties[0][0],\n",
    "#     name='County',\n",
    "#     column='countyname',\n",
    "#     key_on='gid',\n",
    "#     fill_color='yellow',\n",
    "#     fill_opacity='0.2',\n",
    "#     line_opacity='2',\n",
    "#     legend_name='Counties',\n",
    "# )\n",
    "# folium.LayerControl().add_to(m)   \n",
    "# # m"
   ]
  },
  {
   "cell_type": "code",
   "execution_count": null,
   "metadata": {},
   "outputs": [],
   "source": [
    "import kepler\n"
   ]
  },
  {
   "cell_type": "code",
   "execution_count": null,
   "metadata": {},
   "outputs": [],
   "source": [
    "import os\n",
    "import geojson\n",
    "import geopandas as gpd"
   ]
  },
  {
   "cell_type": "code",
   "execution_count": null,
   "metadata": {},
   "outputs": [],
   "source": [
    "data= 'data.geojson'"
   ]
  },
  {
   "cell_type": "code",
   "execution_count": null,
   "metadata": {},
   "outputs": [],
   "source": [
    "dat = geojson.load(open(data))"
   ]
  },
  {
   "cell_type": "code",
   "execution_count": null,
   "metadata": {},
   "outputs": [],
   "source": [
    "dat[12]['properties']"
   ]
  },
  {
   "cell_type": "code",
   "execution_count": null,
   "metadata": {},
   "outputs": [],
   "source": [
    "thick_cloud = dat[12][\"geometry\"]['coordinates'][0]"
   ]
  },
  {
   "cell_type": "code",
   "execution_count": null,
   "metadata": {},
   "outputs": [],
   "source": [
    "thin_cloud = dat[13][\"geometry\"]['coordinates'][0]\n"
   ]
  },
  {
   "cell_type": "code",
   "execution_count": null,
   "metadata": {},
   "outputs": [],
   "source": [
    "thin_cloud\n"
   ]
  },
  {
   "cell_type": "code",
   "execution_count": null,
   "metadata": {},
   "outputs": [],
   "source": []
  },
  {
   "cell_type": "code",
   "execution_count": null,
   "metadata": {},
   "outputs": [],
   "source": [
    "from geojson import Feature, Point, FeatureCollection"
   ]
  },
  {
   "cell_type": "code",
   "execution_count": null,
   "metadata": {},
   "outputs": [],
   "source": [
    "from shapely.geometry import Polygon"
   ]
  },
  {
   "cell_type": "code",
   "execution_count": null,
   "metadata": {},
   "outputs": [],
   "source": [
    "\n"
   ]
  },
  {
   "cell_type": "code",
   "execution_count": null,
   "metadata": {},
   "outputs": [],
   "source": [
    "dta=[]\n",
    "data3=[]\n",
    "\n",
    "for it in thin_cloud:\n",
    "    dta.append(tuple(it))\n",
    "    \n",
    "\n",
    "for item in thick_cloud:\n",
    "    data3.append(tuple(item))\n",
    "    \n",
    "# data3\n",
    "dta\n",
    "\n",
    "# for item2 in data3:\n",
    "#     gpd.GeoSeries([Polygon([item2])])\n"
   ]
  },
  {
   "cell_type": "code",
   "execution_count": null,
   "metadata": {},
   "outputs": [],
   "source": [
    "polys1 = gpd.GeoSeries([Polygon(data3)])\n",
    "polys2= gpd.GeoSeries([Polygon(dta)])\n",
    "# polys2"
   ]
  },
  {
   "cell_type": "code",
   "execution_count": null,
   "metadata": {},
   "outputs": [],
   "source": [
    "df1 = gpd.GeoDataFrame({'geometry':polys1, 'slabel':82, \"plabel\":8})\n",
    "df2 =gpd.GeoDataFrame({'geometry':polys2, 'slabel':81, \"plabel\":8})\n",
    "# df2"
   ]
  },
  {
   "cell_type": "code",
   "execution_count": null,
   "metadata": {},
   "outputs": [],
   "source": [
    "ax = df1.plot(color='red')\n",
    "df2.plot(ax=ax, color='green', alpha=0.5)"
   ]
  },
  {
   "cell_type": "code",
   "execution_count": null,
   "metadata": {},
   "outputs": [],
   "source": [
    "# pip uninstall pygeos"
   ]
  },
  {
   "cell_type": "code",
   "execution_count": null,
   "metadata": {},
   "outputs": [],
   "source": [
    "res_union = df1.overlay(df2, how='union')"
   ]
  },
  {
   "cell_type": "code",
   "execution_count": null,
   "metadata": {},
   "outputs": [],
   "source": [
    "pip uninstall pygeos"
   ]
  },
  {
   "cell_type": "code",
   "execution_count": null,
   "metadata": {},
   "outputs": [],
   "source": []
  }
 ],
 "metadata": {
  "kernelspec": {
   "display_name": "Python 3",
   "language": "python",
   "name": "python3"
  }
 },
 "nbformat": 4,
 "nbformat_minor": 2
}
